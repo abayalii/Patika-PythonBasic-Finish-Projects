{
 "cells": [
  {
   "cell_type": "code",
   "execution_count": 6,
   "metadata": {},
   "outputs": [
    {
     "name": "stdout",
     "output_type": "stream",
     "text": [
      "[[7, 6, 5], [4, 3], [2, 1]]\n"
     ]
    }
   ],
   "source": [
    "\"\"\"Write a function that reverses the elements in the given list. If the elements inside the list also contain the list, reverse their elements as well.\n",
    "For example:\n",
    "input: [[1, 2], [3, 4], [5, 6, 7]]\n",
    "output: [[7, 6, 5], [4, 3], [2, 1]]\n",
    "\"\"\"\n",
    "input_list=[[1, 2], [3, 4], [5, 6, 7]]\n",
    "reversed_list=[]\n",
    "def reverse(x):\n",
    "    for i in x:\n",
    "        if type(i)==list:\n",
    "            i=sorted(i,reverse=True)\n",
    "            reversed_list.append(i)\n",
    "reverse(input_list)\n",
    "print(reversed_list[::-1])"
   ]
  },
  {
   "cell_type": "code",
   "execution_count": null,
   "metadata": {},
   "outputs": [],
   "source": []
  }
 ],
 "metadata": {
  "kernelspec": {
   "display_name": "Python 3",
   "language": "python",
   "name": "python3"
  },
  "language_info": {
   "codemirror_mode": {
    "name": "ipython",
    "version": 3
   },
   "file_extension": ".py",
   "mimetype": "text/x-python",
   "name": "python",
   "nbconvert_exporter": "python",
   "pygments_lexer": "ipython3",
   "version": "3.11.4"
  },
  "orig_nbformat": 4
 },
 "nbformat": 4,
 "nbformat_minor": 2
}
